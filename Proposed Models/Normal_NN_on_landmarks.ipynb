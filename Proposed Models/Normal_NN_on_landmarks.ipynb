{
  "nbformat": 4,
  "nbformat_minor": 0,
  "metadata": {
    "colab": {
      "name": "Normal NN on landmarks.ipynb",
      "provenance": [],
      "collapsed_sections": []
    },
    "kernelspec": {
      "display_name": "Python 3",
      "name": "python3"
    },
    "language_info": {
      "name": "python"
    },
    "accelerator": "GPU"
  },
  "cells": [
    {
      "cell_type": "code",
      "metadata": {
        "id": "eLOpk0zg4Zy2",
        "colab": {
          "base_uri": "https://localhost:8080/"
        },
        "outputId": "eaa721c2-e52f-4910-b4a5-2519bfe411ad"
      },
      "source": [
        "import pandas as pd\n",
        "import numpy as np\n",
        "import os\n",
        "import matplotlib.pyplot as plt\n",
        "from sklearn.metrics import confusion_matrix\n",
        "from mlxtend.plotting import plot_confusion_matrix\n",
        "from keras import models\n",
        "from keras.layers import Dropout, MaxPool2D, AveragePooling2D\n",
        "# from keras.optimizers import RMSProp,Adam\n",
        "from tensorflow.keras.utils import to_categorical\n",
        "from keras.layers import BatchNormalization\n",
        "from keras import metrics\n",
        "from keras.models import Sequential\n",
        "from keras.layers import Dense, Flatten, Conv2D, MaxPooling2D, LSTM, merge\n",
        "# from keras.applications.resnet50 import ResNet50\n",
        "from keras.models import Model\n",
        "import keras\n",
        "import csv\n",
        "from PIL import Image    \n",
        "from sklearn.model_selection import train_test_split\n",
        "from keras.layers import Input, Add, Activation, ZeroPadding2D, BatchNormalization, GlobalMaxPooling2D\n",
        "from tqdm import tqdm\n",
        "import numpy as np # linear algebra\n",
        "from numpy import asarray\n",
        "from sklearn.preprocessing import OneHotEncoder\n",
        "from sklearn.datasets import make_classification\n",
        "from imblearn.over_sampling import RandomOverSampler\n",
        "import collections\n",
        "import pandas as pd # data processing, CSV file I/O (e.g. pd.read_csv)\n",
        "import matplotlib.pyplot as plt\n",
        "import tensorflow as tf\n",
        "from keras.preprocessing import image\n",
        "from keras.preprocessing.image import load_img\n",
        "from keras.preprocessing.image import img_to_array\n",
        "from tensorflow.keras.preprocessing.image import ImageDataGenerator\n",
        "# from keras.layers.normalization import BatchNormalization\n",
        "from tensorflow.keras import datasets, layers, models\n",
        "from tensorflow.keras.layers import Dropout"
      ],
      "execution_count": null,
      "outputs": [
        {
          "output_type": "stream",
          "name": "stderr",
          "text": [
            "/usr/local/lib/python3.7/dist-packages/sklearn/externals/six.py:31: FutureWarning: The module is deprecated in version 0.21 and will be removed in version 0.23 since we've dropped support for Python 2.7. Please rely on the official version of six (https://pypi.org/project/six/).\n",
            "  \"(https://pypi.org/project/six/).\", FutureWarning)\n",
            "/usr/local/lib/python3.7/dist-packages/sklearn/utils/deprecation.py:144: FutureWarning: The sklearn.neighbors.base module is  deprecated in version 0.22 and will be removed in version 0.24. The corresponding classes / functions should instead be imported from sklearn.neighbors. Anything that cannot be imported from sklearn.neighbors is now part of the private API.\n",
            "  warnings.warn(message, FutureWarning)\n"
          ]
        }
      ]
    },
    {
      "cell_type": "code",
      "metadata": {
        "id": "GAt848l0F50K"
      },
      "source": [
        "# !pip install pandarallel"
      ],
      "execution_count": null,
      "outputs": []
    },
    {
      "cell_type": "code",
      "metadata": {
        "id": "VH5nKTr247ID"
      },
      "source": [
        "from google.colab import drive\n",
        "drive.mount('/content/drive')\n",
        "# path = '/content/drive/MyDrive/'\n",
        "path = '/content/drive/MyDrive/'\n",
        "\n",
        "\n",
        "os.listdir(path)"
      ],
      "execution_count": null,
      "outputs": []
    },
    {
      "cell_type": "code",
      "metadata": {
        "id": "gnNq5krz6CTM"
      },
      "source": [
        "data = pd.read_csv(path+'icml_face_data.csv')"
      ],
      "execution_count": null,
      "outputs": []
    },
    {
      "cell_type": "code",
      "metadata": {
        "colab": {
          "base_uri": "https://localhost:8080/",
          "height": 204
        },
        "id": "Ireeji6D6fk2",
        "outputId": "95fd4a01-6c5c-47a4-cd4c-6cb1e88dbc16"
      },
      "source": [
        "data.head()"
      ],
      "execution_count": null,
      "outputs": [
        {
          "output_type": "execute_result",
          "data": {
            "text/html": [
              "<div>\n",
              "<style scoped>\n",
              "    .dataframe tbody tr th:only-of-type {\n",
              "        vertical-align: middle;\n",
              "    }\n",
              "\n",
              "    .dataframe tbody tr th {\n",
              "        vertical-align: top;\n",
              "    }\n",
              "\n",
              "    .dataframe thead th {\n",
              "        text-align: right;\n",
              "    }\n",
              "</style>\n",
              "<table border=\"1\" class=\"dataframe\">\n",
              "  <thead>\n",
              "    <tr style=\"text-align: right;\">\n",
              "      <th></th>\n",
              "      <th>emotion</th>\n",
              "      <th>Usage</th>\n",
              "      <th>pixels</th>\n",
              "    </tr>\n",
              "  </thead>\n",
              "  <tbody>\n",
              "    <tr>\n",
              "      <th>0</th>\n",
              "      <td>0</td>\n",
              "      <td>Training</td>\n",
              "      <td>70 80 82 72 58 58 60 63 54 58 60 48 89 115 121...</td>\n",
              "    </tr>\n",
              "    <tr>\n",
              "      <th>1</th>\n",
              "      <td>0</td>\n",
              "      <td>Training</td>\n",
              "      <td>151 150 147 155 148 133 111 140 170 174 182 15...</td>\n",
              "    </tr>\n",
              "    <tr>\n",
              "      <th>2</th>\n",
              "      <td>2</td>\n",
              "      <td>Training</td>\n",
              "      <td>231 212 156 164 174 138 161 173 182 200 106 38...</td>\n",
              "    </tr>\n",
              "    <tr>\n",
              "      <th>3</th>\n",
              "      <td>4</td>\n",
              "      <td>Training</td>\n",
              "      <td>24 32 36 30 32 23 19 20 30 41 21 22 32 34 21 1...</td>\n",
              "    </tr>\n",
              "    <tr>\n",
              "      <th>4</th>\n",
              "      <td>6</td>\n",
              "      <td>Training</td>\n",
              "      <td>4 0 0 0 0 0 0 0 0 0 0 0 3 15 23 28 48 50 58 84...</td>\n",
              "    </tr>\n",
              "  </tbody>\n",
              "</table>\n",
              "</div>"
            ],
            "text/plain": [
              "   emotion     Usage                                             pixels\n",
              "0        0  Training  70 80 82 72 58 58 60 63 54 58 60 48 89 115 121...\n",
              "1        0  Training  151 150 147 155 148 133 111 140 170 174 182 15...\n",
              "2        2  Training  231 212 156 164 174 138 161 173 182 200 106 38...\n",
              "3        4  Training  24 32 36 30 32 23 19 20 30 41 21 22 32 34 21 1...\n",
              "4        6  Training  4 0 0 0 0 0 0 0 0 0 0 0 3 15 23 28 48 50 58 84..."
            ]
          },
          "metadata": {},
          "execution_count": 5
        }
      ]
    },
    {
      "cell_type": "code",
      "metadata": {
        "id": "Jdd-z14S6jic"
      },
      "source": [
        "def prepare_data(data):\n",
        "    \"\"\" Prepare data for modeling \n",
        "        input: data frame with labels und pixel data\n",
        "        output: image and label array \"\"\"\n",
        "    \n",
        "    image_array = np.zeros(shape=(len(data), 48, 48))\n",
        "    image_label = np.array(list(map(int, data['emotion'])))\n",
        "    \n",
        "    for i, row in enumerate(data.index):\n",
        "        image = np.fromstring(data.loc[row, ' pixels'], dtype=int, sep=' ')\n",
        "        image = np.reshape(image, (48, 48))\n",
        "        image_array[i] = image\n",
        "        \n",
        "    return image_array, image_label\n",
        "# use pandarallel\n",
        "def plot_examples(label=0):\n",
        "    fig, axs = plt.subplots(1, 5, figsize=(25, 12))\n",
        "    fig.subplots_adjust(hspace = .2, wspace=.2)\n",
        "    axs = axs.ravel()\n",
        "    for i in range(5):\n",
        "        idx = data[data['emotion']==label].index[i]\n",
        "        axs[i].imshow(train_images[idx][:,:,0], cmap='gray')\n",
        "        axs[i].set_title(emotions[train_labels[idx].argmax()])\n",
        "        axs[i].set_xticklabels([])\n",
        "        axs[i].set_yticklabels([])\n",
        " \n",
        "def plot_all_emotions():\n",
        "    fig, axs = plt.subplots(1, 7, figsize=(30, 12))\n",
        "    fig.subplots_adjust(hspace = .2, wspace=.2)\n",
        "    axs = axs.ravel()\n",
        "    for i in range(7):\n",
        "        idx = data[data['emotion']==i].index[i]\n",
        "        axs[i].imshow(train_images[idx][:,:,0], cmap='gray')\n",
        "        axs[i].set_title(emotions[train_labels[idx].argmax()])\n",
        "        axs[i].set_xticklabels([])\n",
        "        axs[i].set_yticklabels([])\n",
        "        \n",
        "def plot_image_and_emotion(test_image_array, test_image_label, pred_test_labels, image_number):\n",
        "    \"\"\" Function to plot the image and compare the prediction results with the label \"\"\"\n",
        "    \n",
        "    fig, axs = plt.subplots(1, 2, figsize=(12, 6), sharey=False)\n",
        "    \n",
        "    bar_label = emotions.values()\n",
        "    \n",
        "    axs[0].imshow(test_image_array[image_number], 'gray')\n",
        "    axs[0].set_title(emotions[test_image_label[image_number]])\n",
        "    \n",
        "    axs[1].bar(bar_label, pred_test_labels[image_number], color='orange', alpha=0.7)\n",
        "    axs[1].grid()\n",
        "    \n",
        "    plt.show()\n",
        " \n",
        "def plot_compare_distributions(array1, array2, title1='', title2=''):\n",
        "    df_array1 = pd.DataFrame()\n",
        "    df_array2 = pd.DataFrame()\n",
        "    df_array1['emotion'] = array1.argmax(axis=1)\n",
        "    df_array2['emotion'] = array2.argmax(axis=1)\n",
        "    \n",
        "    fig, axs = plt.subplots(1, 2, figsize=(12, 6), sharey=False)\n",
        "    x = emotions.values()\n",
        "    \n",
        "    y = df_array1['emotion'].value_counts()\n",
        "    keys_missed = list(set(emotions.keys()).difference(set(y.keys())))\n",
        "    for key_missed in keys_missed:\n",
        "        y[key_missed] = 0\n",
        "    axs[0].bar(x, y.sort_index(), color='orange')\n",
        "    axs[0].set_title(title1)\n",
        "    axs[0].grid()\n",
        "    \n",
        "    y = df_array2['emotion'].value_counts()\n",
        "    keys_missed = list(set(emotions.keys()).difference(set(y.keys())))\n",
        "    for key_missed in keys_missed:\n",
        "        y[key_missed] = 0\n",
        "    axs[1].bar(x, y.sort_index())\n",
        "    axs[1].set_title(title2)\n",
        "    axs[1].grid()\n",
        "    \n",
        "    plt.show()"
      ],
      "execution_count": null,
      "outputs": []
    },
    {
      "cell_type": "code",
      "metadata": {
        "id": "DVwrQDEFRI34"
      },
      "source": [
        "# Train_Data_gen = ImageDataGenerator(\n",
        "#         featurewise_center = True,\n",
        "#         featurewise_std_normalization = True)\n",
        "#         # validation_split = 0.2) \n",
        "#         #, rescale = 1./255 (to check whether needed or not )\n",
        "\n",
        "# data =  Train_generator = Train_Data_gen.flow_from_directory(\n",
        "#                   location,\n",
        "#                   target_size=(48,48),\n",
        "#                   batch_size = 32,\n",
        "#                   color_mode = \"grayscale\",\n",
        "#                   class_mode = \"categorical\")\n",
        "\n",
        "# for num_batch_size in len(Train_generator):   # num_batch_size - means the number of batch being trained\n",
        "#     for num_img_in_batch in len(num_batch_size):   # \n",
        "      \n",
        "#         train_image_array, train_image_label = prepare_data(data[data[' Usage']=='Training'])\n",
        "#         val_image_array, val_image_label = prepare_data(data[data[' Usage']=='PrivateTest'])\n",
        "#         test_image_array, test_image_label = prepare_data(data[data[' Usage']=='PublicTest'])\n",
        "\n",
        "#         # TO THINK PART  ...\n",
        "\n",
        "\n"
      ],
      "execution_count": null,
      "outputs": []
    },
    {
      "cell_type": "code",
      "metadata": {
        "colab": {
          "base_uri": "https://localhost:8080/"
        },
        "id": "hKJdIg0R6zjo",
        "outputId": "ccc968e3-c8c0-42cc-b2aa-d1e22d88f0b7"
      },
      "source": [
        "data[' Usage'].value_counts()"
      ],
      "execution_count": null,
      "outputs": [
        {
          "output_type": "execute_result",
          "data": {
            "text/plain": [
              "Training       28709\n",
              "PrivateTest     3589\n",
              "PublicTest      3589\n",
              "Name:  Usage, dtype: int64"
            ]
          },
          "metadata": {},
          "execution_count": 8
        }
      ]
    },
    {
      "cell_type": "code",
      "metadata": {
        "id": "3idPPlIR7Az3"
      },
      "source": [
        "emotions = {0: 'Angry', 1: 'Disgust', 2: 'Fear', 3: 'Happy', 4: 'Sad', 5: 'Surprise', 6: 'Neutral'}"
      ],
      "execution_count": null,
      "outputs": []
    },
    {
      "cell_type": "code",
      "metadata": {
        "id": "AgDCDZRo7D_Y"
      },
      "source": [
        "train_image_array, train_image_label = prepare_data(data[data[' Usage']=='Training'])\n",
        "val_image_array, val_image_label = prepare_data(data[data[' Usage']=='PrivateTest'])\n",
        "test_image_array, test_image_label = prepare_data(data[data[' Usage']=='PublicTest'])"
      ],
      "execution_count": null,
      "outputs": []
    },
    {
      "cell_type": "code",
      "metadata": {
        "colab": {
          "base_uri": "https://localhost:8080/"
        },
        "id": "n5G7U6rAqHm7",
        "outputId": "b186e07e-58a1-4b54-964e-2a85f6bfbeb4"
      },
      "source": [
        "train_image_array.shape\n",
        "train_image_label.shape"
      ],
      "execution_count": null,
      "outputs": [
        {
          "output_type": "execute_result",
          "data": {
            "text/plain": [
              "(28709,)"
            ]
          },
          "metadata": {},
          "execution_count": 11
        }
      ]
    },
    {
      "cell_type": "code",
      "metadata": {
        "id": "eyWcGFVh7Iu5"
      },
      "source": [
        "train_images = train_image_array.reshape((train_image_array.shape[0], 48, 48, 1))\n",
        "# train_images = train_images.astype('float32')/255\n",
        "val_images = val_image_array.reshape((val_image_array.shape[0], 48, 48, 1))\n",
        "# val_images = val_images.astype('float32')/255\n",
        "test_images = test_image_array.reshape((test_image_array.shape[0], 48, 48, 1))\n",
        "# test_images = test_images.astype('float32')/255"
      ],
      "execution_count": null,
      "outputs": []
    },
    {
      "cell_type": "code",
      "metadata": {
        "colab": {
          "base_uri": "https://localhost:8080/"
        },
        "id": "x4lakcdl7MZt",
        "outputId": "0b83f559-2b60-4fe6-f15b-43b0fe2eebd5"
      },
      "source": [
        "train_labels = to_categorical(train_image_label)\n",
        "val_labels = to_categorical(val_image_label)\n",
        "test_labels = to_categorical(test_image_label)\n",
        "\n",
        "print(np.shape(train_labels))"
      ],
      "execution_count": null,
      "outputs": [
        {
          "output_type": "stream",
          "name": "stdout",
          "text": [
            "(28709, 7)\n"
          ]
        }
      ]
    },
    {
      "cell_type": "code",
      "metadata": {
        "colab": {
          "base_uri": "https://localhost:8080/",
          "height": 318
        },
        "id": "7O_ZLAj_nqh1",
        "outputId": "77590bef-f2dd-46dc-9943-2dadc8c75c42"
      },
      "source": [
        "import cv2\n",
        "print(np.shape(test_images))\n",
        "print(np.shape(train_labels))\n",
        "poo=np.array(train_images[6][:,:,0])\n",
        " \n",
        "np.resize(poo,(48,48))\n",
        "# poo = cv2.cvtColor(poo, cv2.COLOR_BGR2GRAY)\n",
        "# print(poo)\n",
        " \n",
        "# del data\n",
        "plt.imshow(poo,cmap='gray')"
      ],
      "execution_count": null,
      "outputs": [
        {
          "output_type": "stream",
          "name": "stdout",
          "text": [
            "(3589, 48, 48, 1)\n",
            "(28709, 7)\n"
          ]
        },
        {
          "output_type": "execute_result",
          "data": {
            "text/plain": [
              "<matplotlib.image.AxesImage at 0x7f84c8e6d650>"
            ]
          },
          "metadata": {},
          "execution_count": 14
        },
        {
          "output_type": "display_data",
          "data": {
            "image/png": "[encoded data removed]",
            "text/plain": [
              "<Figure size 432x288 with 1 Axes>"
            ]
          },
          "metadata": {
            "needs_background": "light"
          }
        }
      ]
    },
    {
      "cell_type": "code",
      "metadata": {
        "id": "f2KqLoYFya6M"
      },
      "source": [
        "import cv2\n",
        "import numpy as np\n",
        "import dlib\n",
        "\n",
        "detector = dlib.get_frontal_face_detector()\n",
        "predictor = dlib.shape_predictor(\"/content/drive/My Drive/shape_predictor_68_face_landmarks.dat\")"
      ],
      "execution_count": null,
      "outputs": []
    },
    {
      "cell_type": "code",
      "metadata": {
        "colab": {
          "base_uri": "https://localhost:8080/"
        },
        "id": "s34PC_NB1pYt",
        "outputId": "82419cc1-7ec6-4be7-f776-f23e19006477"
      },
      "source": [
        "train_final=[]\n",
        "detected=[]\n",
        "for q in range(28709):\n",
        "  \n",
        "  gray=np.array(train_images[q][:,:,:],dtype=np.uint8)\n",
        "  gray=cv2.resize(gray,(48,48))\n",
        "  faces=detector(gray,1)\n",
        "\n",
        "  if (np.shape(faces)[0]==0):\n",
        "    \n",
        "    continue\n",
        "  detected.append(q)\n",
        "  for face in faces:\n",
        "    x1=face.left()\n",
        "    y1=face.top()\n",
        "    x2=face.right()\n",
        "    y2=face.bottom()\n",
        " \n",
        "    landmarks=predictor(gray, face)\n",
        "    xlist=[]\n",
        "    ylist=[]\n",
        "    for n in range(0,68):\n",
        "      xlist.append(float(landmarks.part(n).x))\n",
        "      ylist.append(float(landmarks.part(n).y))\n",
        "\n",
        "    xmean=np.mean(xlist)\n",
        "    ymean=np.mean(ylist)\n",
        "    xcentral=[(x-xmean) for x in xlist] \n",
        "    ycentral=[(y-ymean) for y in ylist]\n",
        "    train_landmark=[]\n",
        "\n",
        "    for i,j in zip(xcentral,ycentral):\n",
        "\n",
        "      train_landmark.append([[i],[j]])\n",
        "\n",
        "    train_final.append(train_landmark)\n",
        "  \n",
        "\n",
        "# print(np.shape(train_landmark))\n",
        "print(np.shape(train_final))\n",
        "print(np.shape(detected))\n",
        "# print((train_landmark))\n",
        "# print((train_final))"
      ],
      "execution_count": null,
      "outputs": [
        {
          "output_type": "stream",
          "name": "stdout",
          "text": [
            "(19984, 68, 2, 1)\n",
            "(19984,)\n"
          ]
        }
      ]
    },
    {
      "cell_type": "code",
      "metadata": {
        "id": "EZGL9Ki1SSq8"
      },
      "source": [
        "train_final, final_train_labels = train_final, train_labels[detected]"
      ],
      "execution_count": null,
      "outputs": []
    },
    {
      "cell_type": "code",
      "metadata": {
        "id": "BDu16R_MmPw7"
      },
      "source": [
        "val_final=[]\n",
        "detected=[]\n",
        "for q in range(3589):\n",
        " \n",
        "  gray=np.array(val_images[q][:,:,:],dtype=np.uint8)\n",
        "  gray=cv2.resize(gray,(48,48))\n",
        "  faces=detector(gray,1)\n",
        "\n",
        "  if (np.shape(faces)[0]==0):\n",
        "    \n",
        "    continue\n",
        "  detected.append(q)\n",
        "  for face in faces:\n",
        "    x1=face.left()\n",
        "    y1=face.top()\n",
        "    x2=face.right()\n",
        "    y2=face.bottom()\n",
        " \n",
        "    landmarks=predictor(gray, face)\n",
        "    xlist=[]\n",
        "    ylist=[]\n",
        "    for n in range(0,68):\n",
        "      xlist.append(float(landmarks.part(n).x))\n",
        "      ylist.append(float(landmarks.part(n).y))\n",
        "\n",
        "    xmean=np.mean(xlist)\n",
        "    ymean=np.mean(ylist)\n",
        "    xcentral=[(x-xmean) for x in xlist] \n",
        "    ycentral=[(y-ymean) for y in ylist]\n",
        "    train_landmark=[]\n",
        "\n",
        "    for i,j in zip(xcentral,ycentral):\n",
        "\n",
        "      train_landmark.append([[i],[j]])\n",
        "\n",
        "    val_final.append(train_landmark)\n",
        "  \n",
        " \n",
        "# print(np.shape(train_landmark))\n",
        "# print(np.shape(train_final))\n",
        " \n",
        "# print((train_landmark))\n",
        "# print((train_final))"
      ],
      "execution_count": null,
      "outputs": []
    },
    {
      "cell_type": "code",
      "metadata": {
        "id": "_aqwKgLrQFNN"
      },
      "source": [
        "final_val_images, final_val_labels = val_images[detected],val_labels[detected]"
      ],
      "execution_count": null,
      "outputs": []
    },
    {
      "cell_type": "code",
      "metadata": {
        "id": "ovaTzAcD8lDY"
      },
      "source": [
        "# val_labels_final=[]\n",
        "\n",
        "# for i in range(28709):\n",
        "#   if i in not_detected:\n",
        "#     continue\n",
        "\n",
        "#   else:\n",
        "#     val_labels_final.append(val_labels[i,:])\n",
        "\n",
        "# print(np.shape(val_labels_final))"
      ],
      "execution_count": null,
      "outputs": []
    },
    {
      "cell_type": "code",
      "metadata": {
        "id": "eQtoyNjNmmrW"
      },
      "source": [
        "test_final=[]\n",
        "detected=[]\n",
        "for q in range(3589):\n",
        " \n",
        "  gray=np.array(test_images[q][:,:,:],dtype=np.uint8)\n",
        "  gray=cv2.resize(gray,(48,48))\n",
        "  faces=detector(gray,1)\n",
        "\n",
        "  if (np.shape(faces)[0]==0):\n",
        "    \n",
        "    continue\n",
        "  detected.append(q)\n",
        "  for face in faces:\n",
        "    x1=face.left()\n",
        "    y1=face.top()\n",
        "    x2=face.right()\n",
        "    y2=face.bottom()\n",
        " \n",
        "    landmarks=predictor(gray, face)\n",
        "    xlist=[]\n",
        "    ylist=[]\n",
        "    for n in range(0,68):\n",
        "      xlist.append(float(landmarks.part(n).x))\n",
        "      ylist.append(float(landmarks.part(n).y))\n",
        "\n",
        "    xmean=np.mean(xlist)\n",
        "    ymean=np.mean(ylist)\n",
        "    xcentral=[(x-xmean) for x in xlist] \n",
        "    ycentral=[(y-ymean) for y in ylist]\n",
        "    train_landmark=[]\n",
        "\n",
        "    for i,j in zip(xcentral,ycentral):\n",
        "\n",
        "      train_landmark.append([[i],[j]])\n",
        "\n",
        "    test_final.append(train_landmark)\n",
        "  \n",
        " \n",
        "# print(np.shape(train_landmark))\n",
        "# print(np.shape(train_final))\n",
        " \n",
        "# print((train_landmark))\n",
        "# print((train_final))"
      ],
      "execution_count": null,
      "outputs": []
    },
    {
      "cell_type": "code",
      "metadata": {
        "id": "L9YD2nwJ8o2v"
      },
      "source": [
        "final_test_images, final_test_lables = test_images[detected], test_labels[detected]"
      ],
      "execution_count": null,
      "outputs": []
    },
    {
      "cell_type": "code",
      "metadata": {
        "colab": {
          "base_uri": "https://localhost:8080/",
          "height": 390
        },
        "id": "epBZkepp7_Cb",
        "outputId": "3b03f452-58a7-4cec-e2cb-2f73f72f029d"
      },
      "source": [
        "plot_compare_distributions(final_train_labels, final_val_labels, title1='train labels', title2='val labels')"
      ],
      "execution_count": null,
      "outputs": [
        {
          "output_type": "display_data",
          "data": {
            "image/png": "[encoded data removed]",
            "text/plain": [
              "<Figure size 864x432 with 2 Axes>"
            ]
          },
          "metadata": {
            "needs_background": "light"
          }
        }
      ]
    },
    {
      "cell_type": "code",
      "metadata": {
        "id": "1EkGtZJz8Dji"
      },
      "source": [
        "class_weight = dict(zip(range(0, 7), (((data[data[' Usage']=='Training']['emotion'].value_counts()).sort_index())/len(data[data[' Usage']=='Training']['emotion'])).tolist()))"
      ],
      "execution_count": null,
      "outputs": []
    },
    {
      "cell_type": "code",
      "metadata": {
        "id": "3d2Mik-sAfcR"
      },
      "source": [
        "from keras.layers import Dense, PReLU, LeakyReLU\n",
        "from tensorflow.keras.models import Sequential\n",
        "import numpy as np\n",
        "from tensorflow.keras import optimizers\n",
        "from keras.regularizers import l2"
      ],
      "execution_count": null,
      "outputs": []
    },
    {
      "cell_type": "code",
      "metadata": {
        "colab": {
          "base_uri": "https://localhost:8080/"
        },
        "id": "UNJjrOPXl7oM",
        "outputId": "defac013-aebe-440a-b064-fd688d9ef627"
      },
      "source": [
        "train_final=np.array(train_final)\n",
        "final_train_labels=np.array(final_train_labels)\n",
        "val_final=np.array(val_final)\n",
        "final_val_labels=np.array(final_val_labels)\n",
        "final_test_images = np.array(final_test_images)\n",
        "final_test_lables = np.array(final_test_lables)\n",
        "\n",
        "print(np.shape(train_final))\n",
        "print(np.shape(final_train_labels))\n",
        "print(np.shape(val_final))\n",
        "print(np.shape(final_val_labels))\n",
        "\n",
        "# train_final=tuple(train_final)\n",
        "# final_train_labels=tuple(final_train_labels)\n",
        "# val_final=tuple(val_final)\n",
        "# final_val_labels=tuple(final_val_labels)\n",
        "\n",
        "# print(train_final.shape)\n",
        "# np.reshape(train_final, (19984, 68, 2))\n",
        "# np.reshape(val_final, (2471, 68, 2))\n",
        "# np.reshape(final_train_labels, (19984, 7))\n",
        "# np.reshape(final_val_labels, (2471, 7))\n",
        "# print(len(train_final))\n",
        "# print(val_final.shape)\n",
        "# print(final_train_labels.shape)\n",
        "# print(final_val_labels.shape)\n",
        "# train_final = tuple(train_final)\n",
        "# final_train_labels = tuple(final_train_labels)\n",
        "# val_final = tuple(val_final)\n",
        "# final_val_labels = tuple(final_val_labels)"
      ],
      "execution_count": null,
      "outputs": [
        {
          "output_type": "stream",
          "name": "stdout",
          "text": [
            "(19984, 68, 2, 1)\n",
            "(19984, 7)\n",
            "(2471, 68, 2, 1)\n",
            "(2471, 7)\n"
          ]
        }
      ]
    },
    {
      "cell_type": "code",
      "metadata": {
        "id": "x961O-N5ncx-"
      },
      "source": [
        "# shape_of_Landmarks = (68,2)\n",
        "# model = Sequential()\n",
        "# model.add(Dense(200, input_shape = shape_of_Landmarks, kernel_regularizer = l2(0.01), bias_regularizer = l2(0.01)))\n",
        "# model.add(PReLU(alpha_initializer = 'zeros'))\n",
        "# model.add(Dense(20, use_bias = True))\n",
        "# model.add(LeakyReLU(alpha = 0.3))\n",
        "# model.add(Dense(7, activation = \"softmax\"))\n",
        "# # model.build(input_shape=shape_of_Landmarks)\n"
      ],
      "execution_count": null,
      "outputs": []
    },
    {
      "cell_type": "code",
      "metadata": {
        "id": "l_kon_fWSBgs"
      },
      "source": [
        "cnn =Sequential()\n",
        "\n",
        "cnn.add(Conv2D(filters=128, kernel_size=(1,1), activation='relu' ,input_shape=(68 ,2 ,1)))\n",
        "cnn.add(BatchNormalization())\n",
        "cnn.add(MaxPool2D(pool_size=(2,2) ,padding='same'))\n",
        "\n",
        "cnn.add(Conv2D(filters=128, kernel_size=(1,1), activation='relu'))\n",
        "cnn.add(BatchNormalization())\n",
        "cnn.add(Conv2D(filters=256, kernel_size=(1,1), activation='relu'))\n",
        "cnn.add(BatchNormalization())\n",
        "cnn.add(MaxPool2D(pool_size=(2,2) ,padding='same'))\n",
        "\n",
        "cnn.add(Conv2D(filters=256, kernel_size=(1,1), activation='relu'))\n",
        "cnn.add(BatchNormalization())\n",
        "cnn.add(Conv2D(filters=256, kernel_size=(1,1), activation='relu'))\n",
        "cnn.add(BatchNormalization())\n",
        "cnn.add(MaxPool2D(pool_size=(2,2) ,padding='same'))\n",
        "\n",
        "cnn.add(Conv2D(filters=256, kernel_size=(1,1), activation='relu'))\n",
        "cnn.add(BatchNormalization())\n",
        "cnn.add(Conv2D(filters=128, kernel_size=(1,1), activation='relu'))\n",
        "cnn.add(BatchNormalization())\n",
        "cnn.add(MaxPool2D(pool_size=(2,2) ,padding='same'))\n",
        "\n",
        "cnn.add(Conv2D(filters=64, kernel_size=(1,1), activation='relu'))\n",
        "cnn.add(BatchNormalization())\n",
        "\n",
        "cnn.add(Flatten())\n",
        "cnn.add(Dense(7, activation='softmax'))\n",
        "# cnn.add(BatchNormalization())\n",
        "# cnn.add(Dense(7 ,Activation=None))\n",
        "\n",
        "cnn.compile(optimizer='adam' ,loss='squared_hinge' ,metrics=['accuracy'])\n",
        "\n",
        "# cnn.compile(loss='sparse_categorical_crossentropy',\n",
        "#                   optimizer=optimizers.RMSprop(learning_rate=2e-4),  # change it to adagrad (lr = 0.001, initial_accumulator_valur = 0.1, epsilon = 1e-07)\n",
        "#                   metrics=['accuracy'])"
      ],
      "execution_count": null,
      "outputs": []
    },
    {
      "cell_type": "code",
      "metadata": {
        "colab": {
          "base_uri": "https://localhost:8080/"
        },
        "id": "Ll7kt08-2mpp",
        "outputId": "28e92405-43ba-44a3-80d8-910a9349bdb3"
      },
      "source": [
        " r=cnn.fit(train_final,final_train_labels, validation_data=(val_final, final_val_labels),epochs=30)"
      ],
      "execution_count": null,
      "outputs": [
        {
          "output_type": "stream",
          "name": "stdout",
          "text": [
            "Epoch 1/30\n",
            "625/625 [==============================] - 38s 12ms/step - loss: 1.1388 - accuracy: 0.4416 - val_loss: 1.1319 - val_accuracy: 0.4743\n",
            "Epoch 2/30\n",
            "625/625 [==============================] - 6s 10ms/step - loss: 1.1218 - accuracy: 0.4769 - val_loss: 1.1218 - val_accuracy: 0.4686\n",
            "Epoch 3/30\n",
            "625/625 [==============================] - 6s 10ms/step - loss: 1.1170 - accuracy: 0.4857 - val_loss: 1.1173 - val_accuracy: 0.4913\n",
            "Epoch 4/30\n",
            "625/625 [==============================] - 6s 10ms/step - loss: 1.1134 - accuracy: 0.4959 - val_loss: 1.1236 - val_accuracy: 0.4763\n",
            "Epoch 5/30\n",
            "625/625 [==============================] - 6s 10ms/step - loss: 1.1109 - accuracy: 0.5023 - val_loss: 1.1350 - val_accuracy: 0.4504\n",
            "Epoch 6/30\n",
            "625/625 [==============================] - 7s 11ms/step - loss: 1.1090 - accuracy: 0.5063 - val_loss: 1.1105 - val_accuracy: 0.5055\n",
            "Epoch 7/30\n",
            "625/625 [==============================] - 6s 10ms/step - loss: 1.1069 - accuracy: 0.5133 - val_loss: 1.1306 - val_accuracy: 0.4597\n",
            "Epoch 8/30\n",
            "625/625 [==============================] - 6s 10ms/step - loss: 1.1054 - accuracy: 0.5148 - val_loss: 1.1061 - val_accuracy: 0.5119\n",
            "Epoch 9/30\n",
            "625/625 [==============================] - 7s 11ms/step - loss: 1.1042 - accuracy: 0.5179 - val_loss: 1.1042 - val_accuracy: 0.5221\n",
            "Epoch 10/30\n",
            "625/625 [==============================] - 7s 11ms/step - loss: 1.1021 - accuracy: 0.5249 - val_loss: 1.1178 - val_accuracy: 0.4970\n",
            "Epoch 11/30\n",
            "625/625 [==============================] - 7s 11ms/step - loss: 1.1007 - accuracy: 0.5244 - val_loss: 1.1073 - val_accuracy: 0.5059\n",
            "Epoch 12/30\n",
            "625/625 [==============================] - 7s 11ms/step - loss: 1.0996 - accuracy: 0.5286 - val_loss: 1.1130 - val_accuracy: 0.4986\n",
            "Epoch 13/30\n",
            "625/625 [==============================] - 7s 11ms/step - loss: 1.0999 - accuracy: 0.5250 - val_loss: 1.1114 - val_accuracy: 0.5038\n",
            "Epoch 14/30\n",
            "625/625 [==============================] - 7s 11ms/step - loss: 1.0979 - accuracy: 0.5303 - val_loss: 1.1159 - val_accuracy: 0.4958\n",
            "Epoch 15/30\n",
            "625/625 [==============================] - 7s 11ms/step - loss: 1.0972 - accuracy: 0.5344 - val_loss: 1.1018 - val_accuracy: 0.5221\n",
            "Epoch 16/30\n",
            "625/625 [==============================] - 7s 11ms/step - loss: 1.0960 - accuracy: 0.5366 - val_loss: 1.1002 - val_accuracy: 0.5330\n",
            "Epoch 17/30\n",
            "625/625 [==============================] - 7s 11ms/step - loss: 1.0953 - accuracy: 0.5400 - val_loss: 1.1008 - val_accuracy: 0.5293\n",
            "Epoch 18/30\n",
            "625/625 [==============================] - 7s 11ms/step - loss: 1.0939 - accuracy: 0.5401 - val_loss: 1.1135 - val_accuracy: 0.4966\n",
            "Epoch 19/30\n",
            "625/625 [==============================] - 7s 11ms/step - loss: 1.0932 - accuracy: 0.5451 - val_loss: 1.1398 - val_accuracy: 0.4476\n",
            "Epoch 20/30\n",
            "625/625 [==============================] - 7s 12ms/step - loss: 1.0931 - accuracy: 0.5445 - val_loss: 1.1000 - val_accuracy: 0.5269\n",
            "Epoch 21/30\n",
            "625/625 [==============================] - 7s 11ms/step - loss: 1.0916 - accuracy: 0.5456 - val_loss: 1.1014 - val_accuracy: 0.5281\n",
            "Epoch 22/30\n",
            "625/625 [==============================] - 8s 12ms/step - loss: 1.0908 - accuracy: 0.5495 - val_loss: 1.1020 - val_accuracy: 0.5261\n",
            "Epoch 23/30\n",
            "625/625 [==============================] - 7s 11ms/step - loss: 1.0899 - accuracy: 0.5506 - val_loss: 1.0987 - val_accuracy: 0.5310\n",
            "Epoch 24/30\n",
            "625/625 [==============================] - 7s 11ms/step - loss: 1.0882 - accuracy: 0.5542 - val_loss: 1.1023 - val_accuracy: 0.5285\n",
            "Epoch 25/30\n",
            "625/625 [==============================] - 7s 11ms/step - loss: 1.0881 - accuracy: 0.5557 - val_loss: 1.1004 - val_accuracy: 0.5188\n",
            "Epoch 26/30\n",
            "625/625 [==============================] - 7s 11ms/step - loss: 1.0870 - accuracy: 0.5582 - val_loss: 1.0996 - val_accuracy: 0.5261\n",
            "Epoch 27/30\n",
            "625/625 [==============================] - 7s 11ms/step - loss: 1.0863 - accuracy: 0.5593 - val_loss: 1.0963 - val_accuracy: 0.5378\n",
            "Epoch 28/30\n",
            "625/625 [==============================] - 7s 11ms/step - loss: 1.0850 - accuracy: 0.5656 - val_loss: 1.0951 - val_accuracy: 0.5362\n",
            "Epoch 29/30\n",
            "625/625 [==============================] - 7s 11ms/step - loss: 1.0851 - accuracy: 0.5622 - val_loss: 1.0996 - val_accuracy: 0.5212\n",
            "Epoch 30/30\n",
            "625/625 [==============================] - 7s 11ms/step - loss: 1.0838 - accuracy: 0.5660 - val_loss: 1.1012 - val_accuracy: 0.5253\n"
          ]
        }
      ]
    },
    {
      "cell_type": "code",
      "metadata": {
        "id": "cb4puq76Ak0C"
      },
      "source": [
        "# cnn.compile(loss='sparse_categorical_crossentropy',\n",
        "#                   optimizer=optimizers.RMSprop(learning_rate=2e-4),  # change it to adagrad (lr = 0.001, initial_accumulator_valur = 0.1, epsilon = 1e-07)\n",
        "#                   metrics=['accuracy'])"
      ],
      "execution_count": null,
      "outputs": []
    },
    {
      "cell_type": "code",
      "metadata": {
        "id": "BVgKRbDB5s3m"
      },
      "source": [
        "# cnn.save('/content/drive/My Drive/challenges-in-representation-learning-facial-expression-recognition-challenge/facial_model.h5')"
      ],
      "execution_count": null,
      "outputs": []
    },
    {
      "cell_type": "code",
      "metadata": {
        "colab": {
          "base_uri": "https://localhost:8080/"
        },
        "id": "HCJOKanlTgov",
        "outputId": "abd92f51-e32e-4ae4-dbfc-46f073b9d6cd"
      },
      "source": [
        "train_final.shape\n",
        "final_train_labels.shape"
      ],
      "execution_count": null,
      "outputs": [
        {
          "output_type": "execute_result",
          "data": {
            "text/plain": [
              "(19984, 7)"
            ]
          },
          "metadata": {},
          "execution_count": 32
        }
      ]
    },
    {
      "cell_type": "code",
      "metadata": {
        "colab": {
          "base_uri": "https://localhost:8080/"
        },
        "id": "-FGik9gma6FM",
        "outputId": "4001aed5-42df-4be0-e183-ad383dd8c33a"
      },
      "source": [
        "#np.reshape(final_test_images, (2487, 68, 2, 1))\n",
        "final_test_images.shape, final_test_lables.shape"
      ],
      "execution_count": null,
      "outputs": [
        {
          "output_type": "execute_result",
          "data": {
            "text/plain": [
              "((2487, 48, 48, 1), (2487, 7))"
            ]
          },
          "metadata": {},
          "execution_count": 33
        }
      ]
    },
    {
      "cell_type": "code",
      "metadata": {
        "colab": {
          "base_uri": "https://localhost:8080/",
          "height": 295
        },
        "id": "h9FR3dloEwsD",
        "outputId": "f899327c-d3c0-4119-a5cd-a83506347491"
      },
      "source": [
        "loss =r.history['loss']\n",
        "loss_val = r.history['val_loss']\n",
        "epochs = range(1, len(loss)+1)\n",
        "plt.plot(epochs, loss, 'bo', label='loss_train')\n",
        "plt.plot(epochs, loss_val, 'b', label='loss_val')\n",
        "plt.title('value of the loss function')\n",
        "plt.xlabel('epochs')\n",
        "plt.ylabel('value of the loss function')\n",
        "plt.legend()\n",
        "plt.grid()\n",
        "plt.show()"
      ],
      "execution_count": null,
      "outputs": [
        {
          "output_type": "display_data",
          "data": {
            "image/png": "[encoded data removed]",
            "text/plain": [
              "<Figure size 432x288 with 1 Axes>"
            ]
          },
          "metadata": {
            "needs_background": "light"
          }
        }
      ]
    },
    {
      "cell_type": "code",
      "metadata": {
        "colab": {
          "base_uri": "https://localhost:8080/",
          "height": 295
        },
        "id": "FEjKXLukE_qO",
        "outputId": "7c348ca7-e3ae-4a8e-884c-167d2dc78faf"
      },
      "source": [
        "acc = r.history['accuracy']\n",
        "acc_val = r.history['val_accuracy']\n",
        "epochs = range(1, len(loss)+1)\n",
        "plt.plot(epochs, acc, 'bo', label='accuracy_train')\n",
        "plt.plot(epochs, acc_val, 'b', label='accuracy_val')\n",
        "plt.title('accuracy')\n",
        "plt.xlabel('epochs')\n",
        "plt.ylabel('value of accuracy')\n",
        "plt.legend()\n",
        "plt.grid()\n",
        "plt.show()"
      ],
      "execution_count": null,
      "outputs": [
        {
          "output_type": "display_data",
          "data": {
            "image/png": "[encoded data removed]",
            "text/plain": [
              "<Figure size 432x288 with 1 Axes>"
            ]
          },
          "metadata": {
            "needs_background": "light"
          }
        }
      ]
    },
    {
      "cell_type": "code",
      "metadata": {
        "id": "u4PDzp0PAy7H"
      },
      "source": [
        "# test_loss, test_acc = cnn.evaluate(final_test_images, final_test_lables)\n",
        "# print('test accuracy:', test_acc)"
      ],
      "execution_count": null,
      "outputs": []
    },
    {
      "cell_type": "code",
      "metadata": {
        "id": "RoR6J8FU0_5P"
      },
      "source": [
        "#cnn.save('results.h5')"
      ],
      "execution_count": null,
      "outputs": []
    },
    {
      "cell_type": "code",
      "metadata": {
        "colab": {
          "base_uri": "https://localhost:8080/"
        },
        "id": "FyyMKjYojIQO",
        "outputId": "a00174ec-31dc-44e2-bfb9-cf69a7caa732"
      },
      "source": [
        "from PIL import Image\n",
        "print(train_final)\n",
        "img = tf.keras.preprocessing.image.array_to_img(train_final)\n",
        "array = tf.keras.preprocessing.image.img_to_array(img)"
      ],
      "execution_count": null,
      "outputs": [
        {
          "output_type": "stream",
          "name": "stdout",
          "text": [
            "[array([[ 5.],\n",
            "       [55.]], dtype=float32), array([[ 0.],\n",
            "       [95.]], dtype=float32), array([[  0.],\n",
            "       [129.]], dtype=float32), array([[  5.],\n",
            "       [169.]], dtype=float32), array([[ 17.],\n",
            "       [198.]], dtype=float32), array([[ 39.],\n",
            "       [220.]], dtype=float32), array([[ 68.],\n",
            "       [243.]], dtype=float32), array([[102.],\n",
            "       [249.]], dtype=float32), array([[125.],\n",
            "       [255.]], dtype=float32), array([[147.],\n",
            "       [249.]], dtype=float32), array([[159.],\n",
            "       [226.]], dtype=float32), array([[176.],\n",
            "       [209.]], dtype=float32), array([[187.],\n",
            "       [186.]], dtype=float32), array([[193.],\n",
            "       [163.]], dtype=float32), array([[204.],\n",
            "       [141.]], dtype=float32), array([[210.],\n",
            "       [118.]], dtype=float32), array([[210.],\n",
            "       [ 89.]], dtype=float32), array([[62.],\n",
            "       [50.]], dtype=float32), array([[85.],\n",
            "       [38.]], dtype=float32), array([[108.],\n",
            "       [ 38.]], dtype=float32), array([[130.],\n",
            "       [ 50.]], dtype=float32), array([[153.],\n",
            "       [ 55.]], dtype=float32), array([[176.],\n",
            "       [ 61.]], dtype=float32), array([[187.],\n",
            "       [ 55.]], dtype=float32), array([[199.],\n",
            "       [ 55.]], dtype=float32), array([[210.],\n",
            "       [ 55.]], dtype=float32), array([[216.],\n",
            "       [ 61.]], dtype=float32), array([[165.],\n",
            "       [ 78.]], dtype=float32), array([[165.],\n",
            "       [ 95.]], dtype=float32), array([[170.],\n",
            "       [118.]], dtype=float32), array([[170.],\n",
            "       [135.]], dtype=float32), array([[136.],\n",
            "       [152.]], dtype=float32), array([[147.],\n",
            "       [152.]], dtype=float32), array([[159.],\n",
            "       [158.]], dtype=float32), array([[165.],\n",
            "       [158.]], dtype=float32), array([[176.],\n",
            "       [152.]], dtype=float32), array([[85.],\n",
            "       [67.]], dtype=float32), array([[96.],\n",
            "       [61.]], dtype=float32), array([[113.],\n",
            "       [ 61.]], dtype=float32), array([[125.],\n",
            "       [ 72.]], dtype=float32), array([[113.],\n",
            "       [ 78.]], dtype=float32), array([[96.],\n",
            "       [72.]], dtype=float32), array([[170.],\n",
            "       [ 78.]], dtype=float32), array([[182.],\n",
            "       [ 72.]], dtype=float32), array([[193.],\n",
            "       [ 72.]], dtype=float32), array([[199.],\n",
            "       [ 78.]], dtype=float32), array([[193.],\n",
            "       [ 84.]], dtype=float32), array([[182.],\n",
            "       [ 84.]], dtype=float32), array([[108.],\n",
            "       [192.]], dtype=float32), array([[130.],\n",
            "       [186.]], dtype=float32), array([[147.],\n",
            "       [181.]], dtype=float32), array([[153.],\n",
            "       [186.]], dtype=float32), array([[159.],\n",
            "       [181.]], dtype=float32), array([[165.],\n",
            "       [186.]], dtype=float32), array([[165.],\n",
            "       [192.]], dtype=float32), array([[159.],\n",
            "       [203.]], dtype=float32), array([[153.],\n",
            "       [209.]], dtype=float32), array([[147.],\n",
            "       [215.]], dtype=float32), array([[136.],\n",
            "       [215.]], dtype=float32), array([[125.],\n",
            "       [203.]], dtype=float32), array([[113.],\n",
            "       [192.]], dtype=float32), array([[142.],\n",
            "       [192.]], dtype=float32), array([[153.],\n",
            "       [192.]], dtype=float32), array([[159.],\n",
            "       [192.]], dtype=float32), array([[165.],\n",
            "       [198.]], dtype=float32), array([[159.],\n",
            "       [198.]], dtype=float32), array([[147.],\n",
            "       [198.]], dtype=float32), array([[142.],\n",
            "       [198.]], dtype=float32)]\n"
          ]
        }
      ]
    },
    {
      "cell_type": "code",
      "metadata": {
        "colab": {
          "base_uri": "https://localhost:8080/",
          "height": 714
        },
        "id": "LteUderMAvIi",
        "outputId": "460d0761-f6b2-4dbb-cf13-6f3713789bbf"
      },
      "source": [
        "train_final = list(array)\n",
        "# print(array[0])\n",
        "pre = array\n",
        "cnn.predict(pre)"
      ],
      "execution_count": null,
      "outputs": [
        {
          "output_type": "error",
          "ename": "ValueError",
          "evalue": "ignored",
          "traceback": [
            "\u001b[0;31m---------------------------------------------------------------------------\u001b[0m",
            "\u001b[0;31mValueError\u001b[0m                                Traceback (most recent call last)",
            "\u001b[0;32m<ipython-input-49-7753db78e055>\u001b[0m in \u001b[0;36m<module>\u001b[0;34m()\u001b[0m\n\u001b[1;32m      2\u001b[0m \u001b[0;31m# print(array[0])\u001b[0m\u001b[0;34m\u001b[0m\u001b[0;34m\u001b[0m\u001b[0;34m\u001b[0m\u001b[0m\n\u001b[1;32m      3\u001b[0m \u001b[0mpre\u001b[0m \u001b[0;34m=\u001b[0m \u001b[0marray\u001b[0m\u001b[0;34m\u001b[0m\u001b[0;34m\u001b[0m\u001b[0m\n\u001b[0;32m----> 4\u001b[0;31m \u001b[0mcnn\u001b[0m\u001b[0;34m.\u001b[0m\u001b[0mpredict\u001b[0m\u001b[0;34m(\u001b[0m\u001b[0mpre\u001b[0m\u001b[0;34m)\u001b[0m\u001b[0;34m\u001b[0m\u001b[0;34m\u001b[0m\u001b[0m\n\u001b[0m",
            "\u001b[0;32m/usr/local/lib/python3.7/dist-packages/keras/engine/training.py\u001b[0m in \u001b[0;36mpredict\u001b[0;34m(self, x, batch_size, verbose, steps, callbacks, max_queue_size, workers, use_multiprocessing)\u001b[0m\n\u001b[1;32m   1749\u001b[0m           \u001b[0;32mfor\u001b[0m \u001b[0mstep\u001b[0m \u001b[0;32min\u001b[0m \u001b[0mdata_handler\u001b[0m\u001b[0;34m.\u001b[0m\u001b[0msteps\u001b[0m\u001b[0;34m(\u001b[0m\u001b[0;34m)\u001b[0m\u001b[0;34m:\u001b[0m\u001b[0;34m\u001b[0m\u001b[0;34m\u001b[0m\u001b[0m\n\u001b[1;32m   1750\u001b[0m             \u001b[0mcallbacks\u001b[0m\u001b[0;34m.\u001b[0m\u001b[0mon_predict_batch_begin\u001b[0m\u001b[0;34m(\u001b[0m\u001b[0mstep\u001b[0m\u001b[0;34m)\u001b[0m\u001b[0;34m\u001b[0m\u001b[0;34m\u001b[0m\u001b[0m\n\u001b[0;32m-> 1751\u001b[0;31m             \u001b[0mtmp_batch_outputs\u001b[0m \u001b[0;34m=\u001b[0m \u001b[0mself\u001b[0m\u001b[0;34m.\u001b[0m\u001b[0mpredict_function\u001b[0m\u001b[0;34m(\u001b[0m\u001b[0miterator\u001b[0m\u001b[0;34m)\u001b[0m\u001b[0;34m\u001b[0m\u001b[0;34m\u001b[0m\u001b[0m\n\u001b[0m\u001b[1;32m   1752\u001b[0m             \u001b[0;32mif\u001b[0m \u001b[0mdata_handler\u001b[0m\u001b[0;34m.\u001b[0m\u001b[0mshould_sync\u001b[0m\u001b[0;34m:\u001b[0m\u001b[0;34m\u001b[0m\u001b[0;34m\u001b[0m\u001b[0m\n\u001b[1;32m   1753\u001b[0m               \u001b[0mcontext\u001b[0m\u001b[0;34m.\u001b[0m\u001b[0masync_wait\u001b[0m\u001b[0;34m(\u001b[0m\u001b[0;34m)\u001b[0m\u001b[0;34m\u001b[0m\u001b[0;34m\u001b[0m\u001b[0m\n",
            "\u001b[0;32m/usr/local/lib/python3.7/dist-packages/tensorflow/python/eager/def_function.py\u001b[0m in \u001b[0;36m__call__\u001b[0;34m(self, *args, **kwds)\u001b[0m\n\u001b[1;32m    883\u001b[0m \u001b[0;34m\u001b[0m\u001b[0m\n\u001b[1;32m    884\u001b[0m       \u001b[0;32mwith\u001b[0m \u001b[0mOptionalXlaContext\u001b[0m\u001b[0;34m(\u001b[0m\u001b[0mself\u001b[0m\u001b[0;34m.\u001b[0m\u001b[0m_jit_compile\u001b[0m\u001b[0;34m)\u001b[0m\u001b[0;34m:\u001b[0m\u001b[0;34m\u001b[0m\u001b[0;34m\u001b[0m\u001b[0m\n\u001b[0;32m--> 885\u001b[0;31m         \u001b[0mresult\u001b[0m \u001b[0;34m=\u001b[0m \u001b[0mself\u001b[0m\u001b[0;34m.\u001b[0m\u001b[0m_call\u001b[0m\u001b[0;34m(\u001b[0m\u001b[0;34m*\u001b[0m\u001b[0margs\u001b[0m\u001b[0;34m,\u001b[0m \u001b[0;34m**\u001b[0m\u001b[0mkwds\u001b[0m\u001b[0;34m)\u001b[0m\u001b[0;34m\u001b[0m\u001b[0;34m\u001b[0m\u001b[0m\n\u001b[0m\u001b[1;32m    886\u001b[0m \u001b[0;34m\u001b[0m\u001b[0m\n\u001b[1;32m    887\u001b[0m       \u001b[0mnew_tracing_count\u001b[0m \u001b[0;34m=\u001b[0m \u001b[0mself\u001b[0m\u001b[0;34m.\u001b[0m\u001b[0mexperimental_get_tracing_count\u001b[0m\u001b[0;34m(\u001b[0m\u001b[0;34m)\u001b[0m\u001b[0;34m\u001b[0m\u001b[0;34m\u001b[0m\u001b[0m\n",
            "\u001b[0;32m/usr/local/lib/python3.7/dist-packages/tensorflow/python/eager/def_function.py\u001b[0m in \u001b[0;36m_call\u001b[0;34m(self, *args, **kwds)\u001b[0m\n\u001b[1;32m    922\u001b[0m       \u001b[0;31m# In this case we have not created variables on the first call. So we can\u001b[0m\u001b[0;34m\u001b[0m\u001b[0;34m\u001b[0m\u001b[0;34m\u001b[0m\u001b[0m\n\u001b[1;32m    923\u001b[0m       \u001b[0;31m# run the first trace but we should fail if variables are created.\u001b[0m\u001b[0;34m\u001b[0m\u001b[0;34m\u001b[0m\u001b[0;34m\u001b[0m\u001b[0m\n\u001b[0;32m--> 924\u001b[0;31m       \u001b[0mresults\u001b[0m \u001b[0;34m=\u001b[0m \u001b[0mself\u001b[0m\u001b[0;34m.\u001b[0m\u001b[0m_stateful_fn\u001b[0m\u001b[0;34m(\u001b[0m\u001b[0;34m*\u001b[0m\u001b[0margs\u001b[0m\u001b[0;34m,\u001b[0m \u001b[0;34m**\u001b[0m\u001b[0mkwds\u001b[0m\u001b[0;34m)\u001b[0m\u001b[0;34m\u001b[0m\u001b[0;34m\u001b[0m\u001b[0m\n\u001b[0m\u001b[1;32m    925\u001b[0m       \u001b[0;32mif\u001b[0m \u001b[0mself\u001b[0m\u001b[0;34m.\u001b[0m\u001b[0m_created_variables\u001b[0m \u001b[0;32mand\u001b[0m \u001b[0;32mnot\u001b[0m \u001b[0mALLOW_DYNAMIC_VARIABLE_CREATION\u001b[0m\u001b[0;34m:\u001b[0m\u001b[0;34m\u001b[0m\u001b[0;34m\u001b[0m\u001b[0m\n\u001b[1;32m    926\u001b[0m         raise ValueError(\"Creating variables on a non-first call to a function\"\n",
            "\u001b[0;32m/usr/local/lib/python3.7/dist-packages/tensorflow/python/eager/function.py\u001b[0m in \u001b[0;36m__call__\u001b[0;34m(self, *args, **kwargs)\u001b[0m\n\u001b[1;32m   3036\u001b[0m     \u001b[0;32mwith\u001b[0m \u001b[0mself\u001b[0m\u001b[0;34m.\u001b[0m\u001b[0m_lock\u001b[0m\u001b[0;34m:\u001b[0m\u001b[0;34m\u001b[0m\u001b[0;34m\u001b[0m\u001b[0m\n\u001b[1;32m   3037\u001b[0m       (graph_function,\n\u001b[0;32m-> 3038\u001b[0;31m        filtered_flat_args) = self._maybe_define_function(args, kwargs)\n\u001b[0m\u001b[1;32m   3039\u001b[0m     return graph_function._call_flat(\n\u001b[1;32m   3040\u001b[0m         filtered_flat_args, captured_inputs=graph_function.captured_inputs)  # pylint: disable=protected-access\n",
            "\u001b[0;32m/usr/local/lib/python3.7/dist-packages/tensorflow/python/eager/function.py\u001b[0m in \u001b[0;36m_maybe_define_function\u001b[0;34m(self, args, kwargs)\u001b[0m\n\u001b[1;32m   3458\u001b[0m               call_context_key in self._function_cache.missed):\n\u001b[1;32m   3459\u001b[0m             return self._define_function_with_shape_relaxation(\n\u001b[0;32m-> 3460\u001b[0;31m                 args, kwargs, flat_args, filtered_flat_args, cache_key_context)\n\u001b[0m\u001b[1;32m   3461\u001b[0m \u001b[0;34m\u001b[0m\u001b[0m\n\u001b[1;32m   3462\u001b[0m           \u001b[0mself\u001b[0m\u001b[0;34m.\u001b[0m\u001b[0m_function_cache\u001b[0m\u001b[0;34m.\u001b[0m\u001b[0mmissed\u001b[0m\u001b[0;34m.\u001b[0m\u001b[0madd\u001b[0m\u001b[0;34m(\u001b[0m\u001b[0mcall_context_key\u001b[0m\u001b[0;34m)\u001b[0m\u001b[0;34m\u001b[0m\u001b[0;34m\u001b[0m\u001b[0m\n",
            "\u001b[0;32m/usr/local/lib/python3.7/dist-packages/tensorflow/python/eager/function.py\u001b[0m in \u001b[0;36m_define_function_with_shape_relaxation\u001b[0;34m(self, args, kwargs, flat_args, filtered_flat_args, cache_key_context)\u001b[0m\n\u001b[1;32m   3380\u001b[0m \u001b[0;34m\u001b[0m\u001b[0m\n\u001b[1;32m   3381\u001b[0m     graph_function = self._create_graph_function(\n\u001b[0;32m-> 3382\u001b[0;31m         args, kwargs, override_flat_arg_shapes=relaxed_arg_shapes)\n\u001b[0m\u001b[1;32m   3383\u001b[0m     \u001b[0mself\u001b[0m\u001b[0;34m.\u001b[0m\u001b[0m_function_cache\u001b[0m\u001b[0;34m.\u001b[0m\u001b[0marg_relaxed\u001b[0m\u001b[0;34m[\u001b[0m\u001b[0mrank_only_cache_key\u001b[0m\u001b[0;34m]\u001b[0m \u001b[0;34m=\u001b[0m \u001b[0mgraph_function\u001b[0m\u001b[0;34m\u001b[0m\u001b[0;34m\u001b[0m\u001b[0m\n\u001b[1;32m   3384\u001b[0m \u001b[0;34m\u001b[0m\u001b[0m\n",
            "\u001b[0;32m/usr/local/lib/python3.7/dist-packages/tensorflow/python/eager/function.py\u001b[0m in \u001b[0;36m_create_graph_function\u001b[0;34m(self, args, kwargs, override_flat_arg_shapes)\u001b[0m\n\u001b[1;32m   3306\u001b[0m             \u001b[0marg_names\u001b[0m\u001b[0;34m=\u001b[0m\u001b[0marg_names\u001b[0m\u001b[0;34m,\u001b[0m\u001b[0;34m\u001b[0m\u001b[0;34m\u001b[0m\u001b[0m\n\u001b[1;32m   3307\u001b[0m             \u001b[0moverride_flat_arg_shapes\u001b[0m\u001b[0;34m=\u001b[0m\u001b[0moverride_flat_arg_shapes\u001b[0m\u001b[0;34m,\u001b[0m\u001b[0;34m\u001b[0m\u001b[0;34m\u001b[0m\u001b[0m\n\u001b[0;32m-> 3308\u001b[0;31m             capture_by_value=self._capture_by_value),\n\u001b[0m\u001b[1;32m   3309\u001b[0m         \u001b[0mself\u001b[0m\u001b[0;34m.\u001b[0m\u001b[0m_function_attributes\u001b[0m\u001b[0;34m,\u001b[0m\u001b[0;34m\u001b[0m\u001b[0;34m\u001b[0m\u001b[0m\n\u001b[1;32m   3310\u001b[0m         \u001b[0mfunction_spec\u001b[0m\u001b[0;34m=\u001b[0m\u001b[0mself\u001b[0m\u001b[0;34m.\u001b[0m\u001b[0mfunction_spec\u001b[0m\u001b[0;34m,\u001b[0m\u001b[0;34m\u001b[0m\u001b[0;34m\u001b[0m\u001b[0m\n",
            "\u001b[0;32m/usr/local/lib/python3.7/dist-packages/tensorflow/python/framework/func_graph.py\u001b[0m in \u001b[0;36mfunc_graph_from_py_func\u001b[0;34m(name, python_func, args, kwargs, signature, func_graph, autograph, autograph_options, add_control_dependencies, arg_names, op_return_value, collections, capture_by_value, override_flat_arg_shapes, acd_record_initial_resource_uses)\u001b[0m\n\u001b[1;32m   1005\u001b[0m         \u001b[0m_\u001b[0m\u001b[0;34m,\u001b[0m \u001b[0moriginal_func\u001b[0m \u001b[0;34m=\u001b[0m \u001b[0mtf_decorator\u001b[0m\u001b[0;34m.\u001b[0m\u001b[0munwrap\u001b[0m\u001b[0;34m(\u001b[0m\u001b[0mpython_func\u001b[0m\u001b[0;34m)\u001b[0m\u001b[0;34m\u001b[0m\u001b[0;34m\u001b[0m\u001b[0m\n\u001b[1;32m   1006\u001b[0m \u001b[0;34m\u001b[0m\u001b[0m\n\u001b[0;32m-> 1007\u001b[0;31m       \u001b[0mfunc_outputs\u001b[0m \u001b[0;34m=\u001b[0m \u001b[0mpython_func\u001b[0m\u001b[0;34m(\u001b[0m\u001b[0;34m*\u001b[0m\u001b[0mfunc_args\u001b[0m\u001b[0;34m,\u001b[0m \u001b[0;34m**\u001b[0m\u001b[0mfunc_kwargs\u001b[0m\u001b[0;34m)\u001b[0m\u001b[0;34m\u001b[0m\u001b[0;34m\u001b[0m\u001b[0m\n\u001b[0m\u001b[1;32m   1008\u001b[0m \u001b[0;34m\u001b[0m\u001b[0m\n\u001b[1;32m   1009\u001b[0m       \u001b[0;31m# invariant: `func_outputs` contains only Tensors, CompositeTensors,\u001b[0m\u001b[0;34m\u001b[0m\u001b[0;34m\u001b[0m\u001b[0;34m\u001b[0m\u001b[0m\n",
            "\u001b[0;32m/usr/local/lib/python3.7/dist-packages/tensorflow/python/eager/def_function.py\u001b[0m in \u001b[0;36mwrapped_fn\u001b[0;34m(*args, **kwds)\u001b[0m\n\u001b[1;32m    666\u001b[0m         \u001b[0;31m# the function a weak reference to itself to avoid a reference cycle.\u001b[0m\u001b[0;34m\u001b[0m\u001b[0;34m\u001b[0m\u001b[0;34m\u001b[0m\u001b[0m\n\u001b[1;32m    667\u001b[0m         \u001b[0;32mwith\u001b[0m \u001b[0mOptionalXlaContext\u001b[0m\u001b[0;34m(\u001b[0m\u001b[0mcompile_with_xla\u001b[0m\u001b[0;34m)\u001b[0m\u001b[0;34m:\u001b[0m\u001b[0;34m\u001b[0m\u001b[0;34m\u001b[0m\u001b[0m\n\u001b[0;32m--> 668\u001b[0;31m           \u001b[0mout\u001b[0m \u001b[0;34m=\u001b[0m \u001b[0mweak_wrapped_fn\u001b[0m\u001b[0;34m(\u001b[0m\u001b[0;34m)\u001b[0m\u001b[0;34m.\u001b[0m\u001b[0m__wrapped__\u001b[0m\u001b[0;34m(\u001b[0m\u001b[0;34m*\u001b[0m\u001b[0margs\u001b[0m\u001b[0;34m,\u001b[0m \u001b[0;34m**\u001b[0m\u001b[0mkwds\u001b[0m\u001b[0;34m)\u001b[0m\u001b[0;34m\u001b[0m\u001b[0;34m\u001b[0m\u001b[0m\n\u001b[0m\u001b[1;32m    669\u001b[0m         \u001b[0;32mreturn\u001b[0m \u001b[0mout\u001b[0m\u001b[0;34m\u001b[0m\u001b[0;34m\u001b[0m\u001b[0m\n\u001b[1;32m    670\u001b[0m \u001b[0;34m\u001b[0m\u001b[0m\n",
            "\u001b[0;32m/usr/local/lib/python3.7/dist-packages/tensorflow/python/framework/func_graph.py\u001b[0m in \u001b[0;36mwrapper\u001b[0;34m(*args, **kwargs)\u001b[0m\n\u001b[1;32m    992\u001b[0m           \u001b[0;32mexcept\u001b[0m \u001b[0mException\u001b[0m \u001b[0;32mas\u001b[0m \u001b[0me\u001b[0m\u001b[0;34m:\u001b[0m  \u001b[0;31m# pylint:disable=broad-except\u001b[0m\u001b[0;34m\u001b[0m\u001b[0;34m\u001b[0m\u001b[0m\n\u001b[1;32m    993\u001b[0m             \u001b[0;32mif\u001b[0m \u001b[0mhasattr\u001b[0m\u001b[0;34m(\u001b[0m\u001b[0me\u001b[0m\u001b[0;34m,\u001b[0m \u001b[0;34m\"ag_error_metadata\"\u001b[0m\u001b[0;34m)\u001b[0m\u001b[0;34m:\u001b[0m\u001b[0;34m\u001b[0m\u001b[0;34m\u001b[0m\u001b[0m\n\u001b[0;32m--> 994\u001b[0;31m               \u001b[0;32mraise\u001b[0m \u001b[0me\u001b[0m\u001b[0;34m.\u001b[0m\u001b[0mag_error_metadata\u001b[0m\u001b[0;34m.\u001b[0m\u001b[0mto_exception\u001b[0m\u001b[0;34m(\u001b[0m\u001b[0me\u001b[0m\u001b[0;34m)\u001b[0m\u001b[0;34m\u001b[0m\u001b[0;34m\u001b[0m\u001b[0m\n\u001b[0m\u001b[1;32m    995\u001b[0m             \u001b[0;32melse\u001b[0m\u001b[0;34m:\u001b[0m\u001b[0;34m\u001b[0m\u001b[0;34m\u001b[0m\u001b[0m\n\u001b[1;32m    996\u001b[0m               \u001b[0;32mraise\u001b[0m\u001b[0;34m\u001b[0m\u001b[0;34m\u001b[0m\u001b[0m\n",
            "\u001b[0;31mValueError\u001b[0m: in user code:\n\n    /usr/local/lib/python3.7/dist-packages/keras/engine/training.py:1586 predict_function  *\n        return step_function(self, iterator)\n    /usr/local/lib/python3.7/dist-packages/keras/engine/training.py:1576 step_function  **\n        outputs = model.distribute_strategy.run(run_step, args=(data,))\n    /usr/local/lib/python3.7/dist-packages/tensorflow/python/distribute/distribute_lib.py:1286 run\n        return self._extended.call_for_each_replica(fn, args=args, kwargs=kwargs)\n    /usr/local/lib/python3.7/dist-packages/tensorflow/python/distribute/distribute_lib.py:2849 call_for_each_replica\n        return self._call_for_each_replica(fn, args, kwargs)\n    /usr/local/lib/python3.7/dist-packages/tensorflow/python/distribute/distribute_lib.py:3632 _call_for_each_replica\n        return fn(*args, **kwargs)\n    /usr/local/lib/python3.7/dist-packages/keras/engine/training.py:1569 run_step  **\n        outputs = model.predict_step(data)\n    /usr/local/lib/python3.7/dist-packages/keras/engine/training.py:1537 predict_step\n        return self(x, training=False)\n    /usr/local/lib/python3.7/dist-packages/keras/engine/base_layer.py:1020 __call__\n        input_spec.assert_input_compatibility(self.input_spec, inputs, self.name)\n    /usr/local/lib/python3.7/dist-packages/keras/engine/input_spec.py:234 assert_input_compatibility\n        str(tuple(shape)))\n\n    ValueError: Input 0 of layer sequential is incompatible with the layer: : expected min_ndim=4, found ndim=3. Full shape received: (None, 2, 1)\n"
          ]
        }
      ]
    },
    {
      "cell_type": "code",
      "metadata": {
        "id": "GBFNOTfajGoR"
      },
      "source": [
        ""
      ],
      "execution_count": null,
      "outputs": []
    },
    {
      "cell_type": "code",
      "metadata": {
        "id": "GYG9bl3_jC75"
      },
      "source": [
        ""
      ],
      "execution_count": null,
      "outputs": []
    }
  ]
}