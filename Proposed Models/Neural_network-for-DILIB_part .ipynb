{
 "cells": [
  {
   "cell_type": "code",
   "execution_count": 8,
   "id": "c1a608ec",
   "metadata": {},
   "outputs": [],
   "source": [
    "from keras.layers import Dense, PReLU, LeakyReLU\n",
    "from tensorflow.keras.models import Sequential\n",
    "import numpy as np\n",
    "from keras import optimizers\n",
    "from keras.regularizers import l2"
   ]
  },
  {
   "cell_type": "code",
   "execution_count": 11,
   "id": "ad676086",
   "metadata": {},
   "outputs": [
    {
     "name": "stdout",
     "output_type": "stream",
     "text": [
      "Model: \"sequential_4\"\n",
      "_________________________________________________________________\n",
      "Layer (type)                 Output Shape              Param #   \n",
      "=================================================================\n",
      "dense_1 (Dense)              (None, 200)               13800     \n",
      "_________________________________________________________________\n",
      "p_re_lu (PReLU)              (None, 200)               200       \n",
      "_________________________________________________________________\n",
      "dense_2 (Dense)              (None, 20)                4020      \n",
      "_________________________________________________________________\n",
      "leaky_re_lu (LeakyReLU)      (None, 20)                0         \n",
      "_________________________________________________________________\n",
      "dense_3 (Dense)              (None, 7)                 147       \n",
      "=================================================================\n",
      "Total params: 18,167\n",
      "Trainable params: 18,167\n",
      "Non-trainable params: 0\n",
      "_________________________________________________________________\n"
     ]
    }
   ],
   "source": [
    "###   shape_of_Landmarks = it will be the shap of TUPLE of landmarks from each image.\n",
    "\n",
    "shape_of_Landmarks = (68,)\n",
    "model = Sequential()\n",
    "model.add(Dense(200, input_shape = shape_of_Landmarks, kernel_regularizer = l2(0.01), bias_regularizer = l2(0.01)))\n",
    "model.add(PReLU(alpha_initializer = 'zeros'))\n",
    "model.add(Dense(20, use_bias = True))\n",
    "model.add(LeakyReLU(alpha = 0.3))\n",
    "model.add(Dense(7, activation = \"softmax\"))\n",
    "\n",
    "model.summary()"
   ]
  },
  {
   "cell_type": "code",
   "execution_count": null,
   "id": "c6a91024",
   "metadata": {},
   "outputs": [],
   "source": [
    "model.compile(loss='sparse_categorical_crossentropy',\n",
    "                  optimizer=optimizers.RMSprop(lr=2e-5),  # change it to adagrad (lr = 0.001, initial_accumulator_valur = 0.1, epsilon = 1e-07)\n",
    "                  metrics=['accuracy'])\n",
    "    \n",
    "model.fit(train_landmarks, emotions, epochs = 1500, validation_split = 0.05)\n",
    "\n",
    "##  here, train_landmark and emotions are in same order that is the index"
   ]
  },
  {
   "cell_type": "code",
   "execution_count": 53,
   "id": "900770b9",
   "metadata": {},
   "outputs": [],
   "source": [
    "import os\n",
    "import argparse\n",
    "import imutils\n",
    "from imutils import face_utils\n",
    "\n",
    "import numpy as np \n",
    "import pandas as pd \n",
    "\n",
    "\n",
    "path = 'D:\\Emoji generation Project_Pycharm\\dataset'\n",
    "os.listdir(path)\n",
    "data = pd.read_csv(path+'\\icml_face_data.csv')\n",
    "\n",
    "data.head()\n",
    "\n",
    "\n",
    "def prepare_data(data):\n",
    "    \"\"\" Prepare data for modeling\n",
    "        input: data frame with labels und pixel data\n",
    "        output: image and label array \"\"\"\n",
    "\n",
    "    image_array = np.zeros(shape=(len(data), 48, 48))\n",
    "    image_label = np.array(list(map(int, data['emotion'])))\n",
    "\n",
    "    for i, row in enumerate(data.index):\n",
    "        image = np.fromstring(data.loc[row, ' pixels'], dtype=int, sep=' ')\n",
    "        image = np.reshape(image, (48, 48))\n",
    "        image_array[i] = image\n",
    "\n",
    "    return image_array, image_label\n",
    "\n",
    "data[' Usage'].value_counts()\n",
    "\n",
    "emotions = {0: 'Angry', 1: 'Disgust', 2: 'Fear', 3: 'Happy', 4: 'Sad', 5: 'Surprise', 6: 'Neutral'}\n",
    "\n",
    "train_image_array, train_image_label = prepare_data(data[data[' Usage']=='Training'])\n",
    "val_image_array, val_image_label = prepare_data(data[data[' Usage']=='PrivateTest'])\n",
    "test_image_array, test_image_label = prepare_data(data[data[' Usage']=='PublicTest'])\n",
    "\n",
    "train_images = train_image_array.reshape((train_image_array.shape[0], 48, 48, 1))\n",
    "#train_images = train_images.astype('float32')/255\n",
    "val_images = val_image_array.reshape((val_image_array.shape[0], 48, 48, 1))\n",
    "#val_images = val_images.astype('float32')/255\n",
    "test_images = test_image_array.reshape((test_image_array.shape[0], 48, 48, 1))\n",
    "#test_images = test_images.astype('float32')/255\n",
    "\n",
    "#print(np.shape(train_images))\n",
    "#print(np.shape(train_labels))\n",
    "\n",
    "\n"
   ]
  },
  {
   "cell_type": "code",
   "execution_count": 55,
   "id": "b28f5379",
   "metadata": {},
   "outputs": [
    {
     "data": {
      "text/plain": [
       "<matplotlib.image.AxesImage at 0x289123df490>"
      ]
     },
     "execution_count": 55,
     "metadata": {},
     "output_type": "execute_result"
    },
    {
     "data": {
      "image/png": "[encoded data removed]",
      "text/plain": [
       "<Figure size 432x288 with 1 Axes>"
      ]
     },
     "metadata": {
      "needs_background": "light"
     },
     "output_type": "display_data"
    }
   ],
   "source": [
    "#import cv2\n",
    "poo=np.array(train_images[1])\n",
    "import matplotlib.pyplot as plt\n",
    "poo = np.resize(poo,(48,48,1))\n",
    "#poo = cv2.threshold(poo, 100,255, cv2.ADAPTIVE_THRESH_GAUSSIAN_C)\n",
    "plt.imshow(poo)\n",
    "#print(poo)"
   ]
  },
  {
   "cell_type": "code",
   "execution_count": null,
   "id": "c6351cae",
   "metadata": {},
   "outputs": [],
   "source": []
  },
  {
   "cell_type": "code",
   "execution_count": null,
   "id": "622c7f37",
   "metadata": {},
   "outputs": [],
   "source": []
  }
 ],
 "metadata": {
  "kernelspec": {
   "display_name": "Python 3",
   "language": "python",
   "name": "python3"
  },
  "language_info": {
   "codemirror_mode": {
    "name": "ipython",
    "version": 3
   },
   "file_extension": ".py",
   "mimetype": "text/x-python",
   "name": "python",
   "nbconvert_exporter": "python",
   "pygments_lexer": "ipython3",
   "version": "3.8.8"
  }
 },
 "nbformat": 4,
 "nbformat_minor": 5
}
