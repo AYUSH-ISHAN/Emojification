{
  "nbformat": 4,
  "nbformat_minor": 0,
  "metadata": {
    "accelerator": "GPU",
    "colab": {
      "name": "CNN_on_AffectNet.ipynb",
      "provenance": [],
      "collapsed_sections": []
    },
    "kernelspec": {
      "display_name": "Python 3 (ipykernel)",
      "language": "python",
      "name": "python3"
    },
    "language_info": {
      "codemirror_mode": {
        "name": "ipython",
        "version": 3
      },
      "file_extension": ".py",
      "mimetype": "text/x-python",
      "name": "python",
      "nbconvert_exporter": "python",
      "pygments_lexer": "ipython3",
      "version": "3.7.0"
    }
  },
  "cells": [
    {
      "cell_type": "markdown",
      "source": [
        "### Applying Deep CNN on AffectNet Dataset [http://mohammadmahoor.com/affectnet/] \n",
        "### Trained on 6 different emotions"
      ],
      "metadata": {
        "id": "PLgSZ0_MKgrk"
      }
    },
    {
      "cell_type": "code",
      "metadata": {
        "id": "pvqWJqd2J7kU"
      },
      "source": [
        "# ###  If the problem persists uncomment the fllowing lines and then run...\n",
        "\n",
        "# from tensorflow.compat.v1 import ConfigProto\n",
        "# from tensorflow.compat.v1 import InteractiveSession\n",
        "\n",
        "# config = ConfigProto()\n",
        "# config.gpu_options.allow_growth = True\n",
        "# session = InteractiveSession(config=config)\n",
        "\n",
        "# \n",
        "# !nvidia-smi -h\n",
        "\n",
        "# !nvidia-smi -q -d UTILIZATION\n",
        "\n",
        "import os\n",
        "\n",
        "# os.environ[\"CUDA_VISIBLE_DEVICES\"]=\"0,1,2\"\n",
        "# # print(CUDA_VISIBLE_DEVICES)\n",
        "# import tensorflow as tf\n",
        "# physical_devices = tf.config.list_physical_devices('GPU')\n",
        "# for physical_device in physical_devices:\n",
        "#     tf.config.experimental.set_memory_growth(physical_device, True)\n"
      ],
      "execution_count": null,
      "outputs": []
    },
    {
      "cell_type": "code",
      "metadata": {
        "id": "FKLgLrpgml5t"
      },
      "source": [
        "# !pip install keras\n",
        "import os\n",
        "import matplotlib.pyplot as plt\n",
        "from sklearn.metrics import confusion_matrix\n",
        "# from mlxtend.plotting import plot_confusion_matrix\n",
        "# from keras import models\n",
        "from tensorflow.keras.utils import to_categorical\n",
        "# from keras.layers import Dense, Flatten, Conv2D, MaxPooling2D, LSTM, merge\n",
        "from tensorflow.keras.models import Model\n",
        "# import keras\n",
        "import csv\n",
        "from sklearn.model_selection import train_test_split\n",
        "from tensorflow.keras.layers import Dense, Activation,BatchNormalization, Flatten, Conv2D, AveragePooling2D\n",
        "from tqdm import tqdm\n",
        "import numpy as np # linear algebra\n",
        "from numpy import asarray\n",
        "from sklearn.preprocessing import OneHotEncoder\n",
        "from sklearn.datasets import make_classification\n",
        "# from imblearn.over_sampling import RandomOverSampler\n",
        "import pandas as pd # data processing, CSV file I/O (e.g. pd.read_csv)\n",
        "import matplotlib.pyplot as plt\n",
        "import tensorflow as tf\n",
        "from tensorflow.keras.preprocessing.image import ImageDataGenerator\n",
        "from tensorflow.keras import datasets, layers, models\n",
        "# from tensorflow.keras.layers import Dropout\n",
        "# import tensorflow\n",
        "import time\n",
        "from tensorflow.keras.models import Sequential\n",
        "from tensorflow.keras import layers\n",
        "from tensorflow.keras import activations\n",
        "from tensorflow.keras.layers import Dropout, MaxPooling2D"
      ],
      "execution_count": null,
      "outputs": []
    },
    {
      "cell_type": "code",
      "metadata": {
        "id": "S7fyruG91dYf"
      },
      "source": [
        "TrainDataGen = ImageDataGenerator(\n",
        "                rotation_range = 5,          ## rotated image training\n",
        "                width_shift_range = 0.1,\n",
        "                height_shift_range = 0.1,   ## shifted image training\n",
        "                rescale = 1.0/255,\n",
        "                shear_range = 0.2,\n",
        "                #zoom_range = 0.2,\t\t   ## zoomed image training\n",
        "                #horizontal_flip = False,\n",
        "                fill_mode = 'nearest')"
      ],
      "execution_count": null,
      "outputs": []
    },
    {
      "cell_type": "code",
      "metadata": {
        "colab": {
          "base_uri": "https://localhost:8080/"
        },
        "id": "t8yj6le51rJO",
        "outputId": "10bdd769-10ca-43df-c57e-c6e23b1fbb12"
      },
      "source": [
        "trainGenerator = TrainDataGen.flow_from_directory(\n",
        "    \n",
        "                '/home/ug2019/eee/19085089/EmojiGeneration/Affectnet_Dataset/Train_set',\n",
        "#                 '/content/drive/MyDrive/emoji/train_set',##ENTER THE PATH BOTH THE FOLDER OF TRAIN IMAGE .\n",
        "                target_size = (224, 224),    # enter the correct size of image\n",
        "                batch_size = 32,  # will change it\n",
        "                # color_mode = \"grayscale\",\n",
        "    \n",
        "\t\t\t          class_mode = \"categorical\")\n",
        "\n",
        "\n"
      ],
      "execution_count": null,
      "outputs": [
        {
          "name": "stdout",
          "output_type": "stream",
          "text": [
            "Found 255217 images belonging to 6 classes.\n"
          ]
        }
      ]
    },
    {
      "cell_type": "code",
      "metadata": {
        "colab": {
          "base_uri": "https://localhost:8080/"
        },
        "id": "yU6v8Hx31tAM",
        "outputId": "774588bb-72e3-4b9d-fb12-36575246a28e"
      },
      "source": [
        "valid_datagen = ImageDataGenerator(rescale=1./255)\n",
        "\n",
        "validation_generator = valid_datagen.flow_from_directory(\n",
        "                '/home/ug2019/eee/19085089/EmojiGeneration/Affectnet_Dataset/val_set',   ## directory of folder having validation set,\n",
        "                target_size=(224,224),\n",
        "                batch_size=32,\n",
        "                # color_mode = \"grayscale\",\n",
        "                class_mode= 'categorical')\n"
      ],
      "execution_count": null,
      "outputs": [
        {
          "name": "stdout",
          "output_type": "stream",
          "text": [
            "Found 2500 images belonging to 6 classes.\n"
          ]
        }
      ]
    },
    {
      "cell_type": "code",
      "metadata": {
        "id": "6JZn7mtrVTtj"
      },
      "source": [
        "# import tensorflow as tf\n",
        "# from tensorflow import keras\n",
        "# from tensorflow.keras import layers\n",
        "# tf.config.list_physical_devices(device_type='GPU')\n",
        "from tensorflow.keras import optimizers\n"
      ],
      "execution_count": null,
      "outputs": []
    },
    {
      "cell_type": "code",
      "metadata": {
        "id": "tUGENKHg33ua",
        "outputId": "0acf59e2-4493-45d4-c997-4390d6f4ea82"
      },
      "source": [
        "mirrored_strategy = tf.distribute.MirroredStrategy(    \n",
        "#     devices = [\n",
        "#         \"/gpu:0\",\n",
        "#         \"/gpu:1\",\n",
        "#         \"/gpu:2\",\n",
        "#         \"/gpu:3\",\n",
        "#         \"/gpu:4\"\n",
        "#               ]\n",
        ")\n",
        "\n",
        "# mirrored_strategy = tf.distribute.MirroredStrategy(    \n",
        "#     devices = [\n",
        "#         \"/gpu:0\",\n",
        "#         \"/gpu:1\",\n",
        "#         \"/gpu:2\",\n",
        "# #         \"/gpu:3\",\n",
        "# #         \"/gpu:4\"\n",
        "#               ]\n",
        "\n",
        "# )\n",
        "\n",
        "'''\n",
        "Avalilable regulizers : - l1, l2, l1_l2\n",
        "'''\n",
        "\n",
        "\n",
        "\n",
        "with mirrored_strategy.scope():\n",
        "    model = tf.keras.Sequential(\n",
        "\n",
        "        [\n",
        "\n",
        "            layers.Conv2D(64, (3,3), input_shape = (224,224,3), strides = 1, padding = \"same\"),\n",
        "            layers.BatchNormalization(),\n",
        "            layers.Activation(activation='relu'),\n",
        "            layers.Dropout(0.5),\n",
        "            layers.Conv2D(128, (3,3), strides = 1, padding = \"same\", kernel_regularizer='l1_l2', bias_regularizer='l1_l2'),\n",
        "            layers.BatchNormalization(),\n",
        "            layers.Activation(activation='relu'),\n",
        "            layers.MaxPooling2D(pool_size = (2,2)),\n",
        "            layers.Dropout(0.5),\n",
        "            layers.Conv2D(512, (3,3), strides = 1,padding = \"same\", kernel_regularizer='l1_l2', bias_regularizer='l1_l2'),\n",
        "            layers.BatchNormalization(),\n",
        "            layers.Activation(activation='relu'),\n",
        "            layers.MaxPooling2D(pool_size = (2,2)),\n",
        "            layers.Dropout(0.5),\n",
        "            layers.Conv2D(512, (3,3), strides = 1,padding = \"same\", kernel_regularizer='l1_l2', bias_regularizer='l1_l2'),\n",
        "            layers.BatchNormalization(),\n",
        "            layers.Activation(activation='relu'),\n",
        "            layers.MaxPooling2D(pool_size = (2,2)),\n",
        "            layers.Dropout(0.5),\n",
        "            layers.Flatten(),\n",
        "            layers.Dense(256, activation = \"relu\", kernel_initializer = \"uniform\"),  #c check for kernal initilaiser\n",
        "            layers.BatchNormalization(),\n",
        "            layers.Activation(activation='relu'),\n",
        "            layers.Dropout(0.5),\n",
        "            layers.Dense(128 ,activation = \"relu\", kernel_initializer = \"uniform\"),  #\n",
        "            layers.BatchNormalization(),\n",
        "            layers.Activation(activation='relu'),\n",
        "            layers.Dropout(0.5),\n",
        "            layers.Dense(6, activation = \"softmax\", kernel_initializer = \"uniform\"),  #  check whether it needs activation or not.\n",
        "\n",
        "    #         layers.Dense(2, activation=\"relu\", name=\"layer1\"),\n",
        "    #         layers.Dense(3, activation=\"relu\", name=\"layer2\"),\n",
        "    #         layers.Dense(4, name=\"layer3\"),\n",
        "        ]\n",
        "\n",
        "\n",
        "    )\n",
        "    model.compile(loss='categorical_crossentropy',\n",
        "#                   optimizer=optimizers.SGD(learning_rate=2e-4),  # change it to adagrad (lr = 0.001, initial_accumulator_valur = 0.1, epsilon = 1e-07)\n",
        "                  optimizer=optimizers.Adam(learning_rate=6e-4),  # change it to adagrad (lr = 0.001, initial_accumulator_valur = 0.1, epsilon = 1e-07)\n",
        "#                   optimizer=optimizers.Adadelta(learning_rate=.1),  # change it to adagrad (lr = 0.001, initial_accumulator_valur = 0.1, epsilon = 1e-07)\n",
        "                  metrics=['accuracy'])\n"
      ],
      "execution_count": null,
      "outputs": [
        {
          "name": "stdout",
          "output_type": "stream",
          "text": [
            "INFO:tensorflow:Using MirroredStrategy with devices ('/job:localhost/replica:0/task:0/device:GPU:0', '/job:localhost/replica:0/task:0/device:GPU:1', '/job:localhost/replica:0/task:0/device:GPU:2')\n"
          ]
        }
      ]
    },
    {
      "cell_type": "code",
      "metadata": {
        "colab": {
          "base_uri": "https://localhost:8080/"
        },
        "id": "F1cend0L39Qu",
        "outputId": "a87d1d0b-8cd0-4cbd-b361-926ef5e1675f"
      },
      "source": [
        "model.summary()"
      ],
      "execution_count": null,
      "outputs": [
        {
          "name": "stdout",
          "output_type": "stream",
          "text": [
            "Model: \"sequential_1\"\n",
            "_________________________________________________________________\n",
            "Layer (type)                 Output Shape              Param #   \n",
            "=================================================================\n",
            "conv2d_4 (Conv2D)            (None, 224, 224, 64)      1792      \n",
            "_________________________________________________________________\n",
            "batch_normalization_6 (Batch (None, 224, 224, 64)      256       \n",
            "_________________________________________________________________\n",
            "activation_6 (Activation)    (None, 224, 224, 64)      0         \n",
            "_________________________________________________________________\n",
            "dropout_6 (Dropout)          (None, 224, 224, 64)      0         \n",
            "_________________________________________________________________\n",
            "conv2d_5 (Conv2D)            (None, 224, 224, 128)     73856     \n",
            "_________________________________________________________________\n",
            "batch_normalization_7 (Batch (None, 224, 224, 128)     512       \n",
            "_________________________________________________________________\n",
            "activation_7 (Activation)    (None, 224, 224, 128)     0         \n",
            "_________________________________________________________________\n",
            "max_pooling2d_3 (MaxPooling2 (None, 112, 112, 128)     0         \n",
            "_________________________________________________________________\n",
            "dropout_7 (Dropout)          (None, 112, 112, 128)     0         \n",
            "_________________________________________________________________\n",
            "conv2d_6 (Conv2D)            (None, 112, 112, 512)     590336    \n",
            "_________________________________________________________________\n",
            "batch_normalization_8 (Batch (None, 112, 112, 512)     2048      \n",
            "_________________________________________________________________\n",
            "activation_8 (Activation)    (None, 112, 112, 512)     0         \n",
            "_________________________________________________________________\n",
            "max_pooling2d_4 (MaxPooling2 (None, 56, 56, 512)       0         \n",
            "_________________________________________________________________\n",
            "dropout_8 (Dropout)          (None, 56, 56, 512)       0         \n",
            "_________________________________________________________________\n",
            "conv2d_7 (Conv2D)            (None, 56, 56, 512)       2359808   \n",
            "_________________________________________________________________\n",
            "batch_normalization_9 (Batch (None, 56, 56, 512)       2048      \n",
            "_________________________________________________________________\n",
            "activation_9 (Activation)    (None, 56, 56, 512)       0         \n",
            "_________________________________________________________________\n",
            "max_pooling2d_5 (MaxPooling2 (None, 28, 28, 512)       0         \n",
            "_________________________________________________________________\n",
            "dropout_9 (Dropout)          (None, 28, 28, 512)       0         \n",
            "_________________________________________________________________\n",
            "flatten_1 (Flatten)          (None, 401408)            0         \n",
            "_________________________________________________________________\n",
            "dense_3 (Dense)              (None, 256)               102760704 \n",
            "_________________________________________________________________\n",
            "batch_normalization_10 (Batc (None, 256)               1024      \n",
            "_________________________________________________________________\n",
            "activation_10 (Activation)   (None, 256)               0         \n",
            "_________________________________________________________________\n",
            "dropout_10 (Dropout)         (None, 256)               0         \n",
            "_________________________________________________________________\n",
            "dense_4 (Dense)              (None, 128)               32896     \n",
            "_________________________________________________________________\n",
            "batch_normalization_11 (Batc (None, 128)               512       \n",
            "_________________________________________________________________\n",
            "activation_11 (Activation)   (None, 128)               0         \n",
            "_________________________________________________________________\n",
            "dropout_11 (Dropout)         (None, 128)               0         \n",
            "_________________________________________________________________\n",
            "dense_5 (Dense)              (None, 6)                 774       \n",
            "=================================================================\n",
            "Total params: 105,826,566\n",
            "Trainable params: 105,823,366\n",
            "Non-trainable params: 3,200\n",
            "_________________________________________________________________\n"
          ]
        }
      ]
    },
    {
      "cell_type": "code",
      "metadata": {
        "id": "fTBvtQDDk16O"
      },
      "source": [
        "\n",
        "result = model.fit_generator(\n",
        "            trainGenerator,\n",
        "            epochs = 100,\n",
        "            steps_per_epoch = 500,\n",
        "            validation_data = validation_generator,\n",
        "            validation_steps = 432,\n",
        "                workers = 5,\n",
        "                use_multiprocessing = True,\n",
        ")\n"
      ],
      "execution_count": null,
      "outputs": []
    },
    {
      "cell_type": "code",
      "metadata": {
        "id": "YYAZ9Svk4Ena"
      },
      "source": [
        "%matplotlib inline"
      ],
      "execution_count": null,
      "outputs": []
    },
    {
      "cell_type": "code",
      "metadata": {
        "id": "oR29I-ZR4EoA"
      },
      "source": [
        "accu=result.history['accuracy']\n",
        "#val_acc=res.history['val_accuracy']\n",
        "loss=result.history['loss']\n",
        "#val_loss=res.history['val_loss']\n",
        "\n",
        "epochs=range(len(accu)) #No. of epochs\n",
        "\n",
        "# graph plotting\n",
        "import matplotlib.pyplot as plt\n",
        "plt.plot(epochs,accu,'r',label='Training Accuracy')\n",
        "plt.plot(epochs,val_acc,'g',label='Testing Accuracy')  \n",
        "plt.legend()\n",
        "plt.figure()\n"
      ],
      "execution_count": null,
      "outputs": []
    },
    {
      "cell_type": "code",
      "metadata": {
        "id": "NfRzg91t4LVl"
      },
      "source": [
        "#Plot training and validation loss per epoch\n",
        "plt.plot(epochs,loss,'r',label='Training Loss')\n",
        "plt.plot(epochs,val_loss,'g',label='Testing Loss')   \n",
        "plt.legend()\n",
        "plt.show()"
      ],
      "execution_count": null,
      "outputs": []
    },
    {
      "cell_type": "code",
      "metadata": {
        "id": "JvvYwRBTVTtu"
      },
      "source": [
        ""
      ],
      "execution_count": null,
      "outputs": []
    }
  ]
}